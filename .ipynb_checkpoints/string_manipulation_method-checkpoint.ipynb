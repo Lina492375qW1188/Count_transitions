{
 "cells": [
  {
   "cell_type": "code",
   "execution_count": 1,
   "metadata": {},
   "outputs": [],
   "source": [
    "import numpy as np\n",
    "import matplotlib.pyplot as plt\n",
    "from multiprocessing import Pool\n",
    "import functools\n",
    "import re"
   ]
  },
  {
   "cell_type": "markdown",
   "metadata": {},
   "source": [
    "Read the same data"
   ]
  },
  {
   "cell_type": "code",
   "execution_count": 2,
   "metadata": {},
   "outputs": [],
   "source": [
    "filename = 'xvyw1beta10.0gammax1.0gammay1.0epsln1.0sgma1.0A1.0x01.122w0.8B0.15a1.0_h0.01_mix1.txt'\n",
    "data_array = np.loadtxt(filename)"
   ]
  },
  {
   "cell_type": "markdown",
   "metadata": {},
   "source": [
    "Position of metastable states"
   ]
  },
  {
   "cell_type": "code",
   "execution_count": 3,
   "metadata": {},
   "outputs": [],
   "source": [
    "S={}\n",
    "S[0]=np.array([1.5 ,1.8])\n",
    "S[1]=np.array([0.0,-1.0])\n",
    "S[2]=np.array([-1.5, 1.5])"
   ]
  },
  {
   "cell_type": "markdown",
   "metadata": {},
   "source": [
    "We can also convert our trajectory to string and use string manipulation to treat commit time as repeated string."
   ]
  },
  {
   "cell_type": "code",
   "execution_count": 4,
   "metadata": {},
   "outputs": [],
   "source": [
    "def within(coordinate, center, radius=0.8):\n",
    "    \"\"\"\n",
    "    Determine whether a coordinate is within the predefined center.\n",
    "    \"\"\"\n",
    "    return np.linalg.norm(coordinate - center) <= radius\n",
    "\n",
    "def classify(coordinate):\n",
    "    \"\"\"\n",
    "    Classify coordinates as labels.\n",
    "    \"\"\"\n",
    "    radius=1.0\n",
    "    if within(coordinate, S[0], radius):\n",
    "        return \"A\"\n",
    "    elif within(coordinate, S[1], radius):\n",
    "        return \"B\"\n",
    "    elif within(coordinate, S[2], radius):\n",
    "        return \"C\"\n",
    "    else:\n",
    "        return \"N\"\n",
    "    \n",
    "def count(data, commit):\n",
    "    \"\"\"\n",
    "    AAAAABBCCCCCC => aBBcC => ac\n",
    "\n",
    "    Very unlikely exception:\n",
    "    AAAAABBCDCBAAAAAAACCCCC => aBBCDCBaAAc => aac\n",
    "    Where we can see that BBCDCB are larger than commit time.\n",
    "    \"\"\"\n",
    "    bMustCommit = False\n",
    "    data = data.replace(\"A\" * commit, 'X')\n",
    "    if bMustCommit: data = data.replace(\"B\" * commit, 'Y')\n",
    "    data = data.replace(\"C\" * commit, 'Z')\n",
    "    data = data.replace(\"A\", \"\")\n",
    "    if bMustCommit: data = data.replace(\"B\", \"\")\n",
    "    data = data.replace(\"C\", \"\")\n",
    "    data = data.replace(\"N\", \"\")\n",
    "    data = data.replace(\"X\", \"A\")\n",
    "    if bMustCommit: data = data.replace(\"Y\", \"B\")\n",
    "    data = data.replace(\"Z\", \"C\")\n",
    "\n",
    "    data = re.sub('AA+', 'A', data)\n",
    "    data = re.sub('BB+', 'B', data)\n",
    "    data = re.sub('CC+', 'C', data)\n",
    "\n",
    "    n1 = data.count(\"AB\")\n",
    "    n2 = data.count(\"ACB\")\n",
    "\n",
    "    n3 = data.count(\"AC\")\n",
    "    n4 = data.count(\"ABC\")\n",
    "\n",
    "    n5 = data.count(\"BC\")\n",
    "    n6 = data.count(\"BAC\")\n",
    "\n",
    "    return n1, n2, n3, n4, n5, n6"
   ]
  },
  {
   "cell_type": "code",
   "execution_count": 5,
   "metadata": {},
   "outputs": [],
   "source": [
    "commits = list(range(1, 1500, 5))\n",
    "\n",
    "data = \"\".join(list(map(classify, data_array)))\n",
    "\n",
    "count2 = functools.partial(count, data)\n",
    "p = Pool(4)\n",
    "res = list(p.map(count2, commits))\n",
    "res = list(zip(*res))"
   ]
  },
  {
   "cell_type": "code",
   "execution_count": 6,
   "metadata": {},
   "outputs": [
    {
     "data": {
      "image/png": "[encoded data removed]",
      "text/plain": [
       "<Figure size 1080x288 with 3 Axes>"
      ]
     },
     "metadata": {
      "needs_background": "light"
     },
     "output_type": "display_data"
    }
   ],
   "source": [
    "fig, ax = plt.subplots(figsize=(15,4), nrows=1, ncols=3)\n",
    "\n",
    "ax[0].plot(commits, res[0], 'o-', label = 'AB')\n",
    "ax[0].plot(commits, res[1], 'o-', label = 'ACB')\n",
    "\n",
    "ax[1].plot(commits, res[2], 'o-', label = 'AC')\n",
    "ax[1].plot(commits, res[3], 'o-', label = 'ABC')\n",
    "\n",
    "ax[2].plot(commits, res[4], 'o-', label = 'BC')\n",
    "ax[2].plot(commits, res[5], 'o-', label = 'BAC')\n",
    "\n",
    "for i in range(3):\n",
    "    ax[i].grid()\n",
    "    ax[i].legend(fontsize=16)\n",
    "\n",
    "plt.show()"
   ]
  },
  {
   "cell_type": "markdown",
   "metadata": {},
   "source": [
    "In the first plot, we can see that the plataue is at roughly 11, so we say that the number of transitions between A and B is 11. Using direct counting method, we have approximately 10."
   ]
  }
 ],
 "metadata": {
  "kernelspec": {
   "display_name": "Python 3",
   "language": "python",
   "name": "python3"
  },
  "language_info": {
   "codemirror_mode": {
    "name": "ipython",
    "version": 3
   },
   "file_extension": ".py",
   "mimetype": "text/x-python",
   "name": "python",
   "nbconvert_exporter": "python",
   "pygments_lexer": "ipython3",
   "version": "3.7.3"
  }
 },
 "nbformat": 4,
 "nbformat_minor": 2
}
